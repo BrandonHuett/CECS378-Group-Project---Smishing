{
 "cells": [
  {
   "cell_type": "markdown",
   "id": "8e06c679-86a6-4ab1-8dd0-c565989de1c6",
   "metadata": {},
   "source": [
    "# Import Modules"
   ]
  },
  {
   "cell_type": "code",
   "execution_count": 40,
   "id": "80d96535-90c0-4788-bbd1-5ebd9abaac11",
   "metadata": {},
   "outputs": [
    {
     "name": "stderr",
     "output_type": "stream",
     "text": [
      "[nltk_data] Downloading collection 'popular'\n",
      "[nltk_data]    | \n",
      "[nltk_data]    | Downloading package cmudict to\n",
      "[nltk_data]    |     /Users/stef/nltk_data...\n",
      "[nltk_data]    |   Unzipping corpora/cmudict.zip.\n",
      "[nltk_data]    | Downloading package gazetteers to\n",
      "[nltk_data]    |     /Users/stef/nltk_data...\n",
      "[nltk_data]    |   Package gazetteers is already up-to-date!\n",
      "[nltk_data]    | Downloading package genesis to\n",
      "[nltk_data]    |     /Users/stef/nltk_data...\n",
      "[nltk_data]    |   Package genesis is already up-to-date!\n",
      "[nltk_data]    | Downloading package gutenberg to\n",
      "[nltk_data]    |     /Users/stef/nltk_data...\n",
      "[nltk_data]    |   Package gutenberg is already up-to-date!\n",
      "[nltk_data]    | Downloading package inaugural to\n",
      "[nltk_data]    |     /Users/stef/nltk_data...\n",
      "[nltk_data]    |   Package inaugural is already up-to-date!\n",
      "[nltk_data]    | Downloading package movie_reviews to\n",
      "[nltk_data]    |     /Users/stef/nltk_data...\n",
      "[nltk_data]    |   Unzipping corpora/movie_reviews.zip.\n",
      "[nltk_data]    | Downloading package names to /Users/stef/nltk_data...\n",
      "[nltk_data]    |   Unzipping corpora/names.zip.\n",
      "[nltk_data]    | Downloading package shakespeare to\n",
      "[nltk_data]    |     /Users/stef/nltk_data...\n",
      "[nltk_data]    |   Package shakespeare is already up-to-date!\n",
      "[nltk_data]    | Downloading package stopwords to\n",
      "[nltk_data]    |     /Users/stef/nltk_data...\n",
      "[nltk_data]    |   Package stopwords is already up-to-date!\n",
      "[nltk_data]    | Downloading package treebank to\n",
      "[nltk_data]    |     /Users/stef/nltk_data...\n",
      "[nltk_data]    |   Package treebank is already up-to-date!\n",
      "[nltk_data]    | Downloading package twitter_samples to\n",
      "[nltk_data]    |     /Users/stef/nltk_data...\n",
      "[nltk_data]    |   Package twitter_samples is already up-to-date!\n",
      "[nltk_data]    | Downloading package omw to /Users/stef/nltk_data...\n",
      "[nltk_data]    |   Package omw is already up-to-date!\n",
      "[nltk_data]    | Downloading package omw-1.4 to\n",
      "[nltk_data]    |     /Users/stef/nltk_data...\n",
      "[nltk_data]    |   Package omw-1.4 is already up-to-date!\n",
      "[nltk_data]    | Downloading package wordnet to\n",
      "[nltk_data]    |     /Users/stef/nltk_data...\n",
      "[nltk_data]    |   Package wordnet is already up-to-date!\n",
      "[nltk_data]    | Downloading package wordnet2021 to\n",
      "[nltk_data]    |     /Users/stef/nltk_data...\n",
      "[nltk_data]    |   Package wordnet2021 is already up-to-date!\n",
      "[nltk_data]    | Downloading package wordnet31 to\n",
      "[nltk_data]    |     /Users/stef/nltk_data...\n",
      "[nltk_data]    |   Package wordnet31 is already up-to-date!\n",
      "[nltk_data]    | Downloading package wordnet_ic to\n",
      "[nltk_data]    |     /Users/stef/nltk_data...\n",
      "[nltk_data]    |   Unzipping corpora/wordnet_ic.zip.\n",
      "[nltk_data]    | Downloading package words to /Users/stef/nltk_data...\n",
      "[nltk_data]    |   Package words is already up-to-date!\n",
      "[nltk_data]    | Downloading package maxent_ne_chunker to\n",
      "[nltk_data]    |     /Users/stef/nltk_data...\n",
      "[nltk_data]    |   Package maxent_ne_chunker is already up-to-date!\n",
      "[nltk_data]    | Downloading package punkt to /Users/stef/nltk_data...\n",
      "[nltk_data]    |   Package punkt is already up-to-date!\n",
      "[nltk_data]    | Downloading package snowball_data to\n",
      "[nltk_data]    |     /Users/stef/nltk_data...\n",
      "[nltk_data]    |   Package snowball_data is already up-to-date!\n",
      "[nltk_data]    | Downloading package averaged_perceptron_tagger to\n",
      "[nltk_data]    |     /Users/stef/nltk_data...\n",
      "[nltk_data]    |   Package averaged_perceptron_tagger is already up-\n",
      "[nltk_data]    |       to-date!\n",
      "[nltk_data]    | \n",
      "[nltk_data]  Done downloading collection popular\n"
     ]
    }
   ],
   "source": [
    "import nltk\n",
    "nltk.download(\"popular\")\n",
    "from sklearn.metrics.pairwise import cosine_similarity\n",
    "import pandas as pd\n",
    "import string\n",
    "from nltk.corpus import stopwords\n",
    "import joblib\n",
    "from sklearn.linear_model import LogisticRegression\n",
    "from sklearn.model_selection import train_test_split\n",
    "from sklearn.metrics import accuracy_score, classification_report,confusion_matrix\n",
    "from sklearn.feature_extraction.text import TfidfVectorizer"
   ]
  },
  {
   "cell_type": "markdown",
   "id": "d1ef9b1f-74fd-4b08-8da2-8aeb71d5287f",
   "metadata": {},
   "source": [
    "# Load Dataset"
   ]
  },
  {
   "cell_type": "code",
   "execution_count": 41,
   "id": "6f519b1a-62ce-4e2b-ab3a-0977f144a50f",
   "metadata": {},
   "outputs": [
    {
     "data": {
      "text/html": [
       "<div>\n",
       "<style scoped>\n",
       "    .dataframe tbody tr th:only-of-type {\n",
       "        vertical-align: middle;\n",
       "    }\n",
       "\n",
       "    .dataframe tbody tr th {\n",
       "        vertical-align: top;\n",
       "    }\n",
       "\n",
       "    .dataframe thead th {\n",
       "        text-align: right;\n",
       "    }\n",
       "</style>\n",
       "<table border=\"1\" class=\"dataframe\">\n",
       "  <thead>\n",
       "    <tr style=\"text-align: right;\">\n",
       "      <th></th>\n",
       "      <th>index</th>\n",
       "      <th>source_text</th>\n",
       "      <th>smishing_text</th>\n",
       "      <th>label</th>\n",
       "    </tr>\n",
       "  </thead>\n",
       "  <tbody>\n",
       "    <tr>\n",
       "      <th>0</th>\n",
       "      <td>0</td>\n",
       "      <td>Your can now access your Citibank statement. L...</td>\n",
       "      <td>Citibank Urgent: Suspicious activity detected....</td>\n",
       "      <td>1</td>\n",
       "    </tr>\n",
       "    <tr>\n",
       "      <th>1</th>\n",
       "      <td>1</td>\n",
       "      <td>Your UPS package is en route! Use our offical ...</td>\n",
       "      <td>UPS Delivery issue: We're holding your package...</td>\n",
       "      <td>1</td>\n",
       "    </tr>\n",
       "    <tr>\n",
       "      <th>2</th>\n",
       "      <td>2</td>\n",
       "      <td>You are receiving this update on your recent p...</td>\n",
       "      <td>Thank you for your purchase! Verify your infor...</td>\n",
       "      <td>1</td>\n",
       "    </tr>\n",
       "    <tr>\n",
       "      <th>3</th>\n",
       "      <td>3</td>\n",
       "      <td>Your account Capitol One balance is available....</td>\n",
       "      <td>Attention! Capitol One alert: Immediate action...</td>\n",
       "      <td>1</td>\n",
       "    </tr>\n",
       "    <tr>\n",
       "      <th>4</th>\n",
       "      <td>4</td>\n",
       "      <td>Update your Safari App to the latest version i...</td>\n",
       "      <td>Safari app action required! Click here to inst...</td>\n",
       "      <td>1</td>\n",
       "    </tr>\n",
       "  </tbody>\n",
       "</table>\n",
       "</div>"
      ],
      "text/plain": [
       "   index                                        source_text  \\\n",
       "0      0  Your can now access your Citibank statement. L...   \n",
       "1      1  Your UPS package is en route! Use our offical ...   \n",
       "2      2  You are receiving this update on your recent p...   \n",
       "3      3  Your account Capitol One balance is available....   \n",
       "4      4  Update your Safari App to the latest version i...   \n",
       "\n",
       "                                       smishing_text  label  \n",
       "0  Citibank Urgent: Suspicious activity detected....      1  \n",
       "1  UPS Delivery issue: We're holding your package...      1  \n",
       "2  Thank you for your purchase! Verify your infor...      1  \n",
       "3  Attention! Capitol One alert: Immediate action...      1  \n",
       "4  Safari app action required! Click here to inst...      1  "
      ]
     },
     "execution_count": 41,
     "metadata": {},
     "output_type": "execute_result"
    }
   ],
   "source": [
    "data = pd.read_csv(\"dataset.csv\")\n",
    "data.head()"
   ]
  },
  {
   "cell_type": "code",
   "execution_count": 42,
   "id": "cd600c4c-ab1b-497e-8385-694d412a7c37",
   "metadata": {},
   "outputs": [
    {
     "data": {
      "text/plain": [
       "label\n",
       "1    104\n",
       "0     67\n",
       "Name: count, dtype: int64"
      ]
     },
     "execution_count": 42,
     "metadata": {},
     "output_type": "execute_result"
    }
   ],
   "source": [
    "data['label'].value_counts()\n",
    "# 1 = scam and 0 = safe "
   ]
  },
  {
   "cell_type": "code",
   "execution_count": 43,
   "id": "8a14d118-cba5-4ccc-a978-bff5639a7e74",
   "metadata": {},
   "outputs": [
    {
     "data": {
      "text/plain": [
       "(171, 4)"
      ]
     },
     "execution_count": 43,
     "metadata": {},
     "output_type": "execute_result"
    }
   ],
   "source": [
    "data.shape\n",
    "# number of rows"
   ]
  },
  {
   "cell_type": "markdown",
   "id": "0a34b7b7-ca81-43fe-8a6c-0bd3f9e6897d",
   "metadata": {},
   "source": [
    "# Clean Text"
   ]
  },
  {
   "cell_type": "code",
   "execution_count": 44,
   "id": "670adccc-ef4f-4794-a840-7b9e95dbf8c4",
   "metadata": {},
   "outputs": [
    {
     "data": {
      "text/plain": [
       "'tet dummy text'"
      ]
     },
     "execution_count": 44,
     "metadata": {},
     "output_type": "execute_result"
    }
   ],
   "source": [
    "def preprocess_text(text):\n",
    "    #remove punctuation\n",
    "    text = text.translate(str.maketrans(\"\", \"\", string.punctuation))\n",
    "    #convert to lowercase\n",
    "    text = text.lower()\n",
    "    #remove stop words that are super common *most important*\n",
    "    stop_words = set(stopwords.words('english'))\n",
    "    text = \" \".join((word for word in text.split() if word not in stop_words))\n",
    "    return text\n",
    "    \n",
    "preprocess_text(\"This is a Te$T for / dum,my ^ text\")"
   ]
  },
  {
   "cell_type": "code",
   "execution_count": 45,
   "id": "8fda7245-b99a-48b3-8a6b-9991a220dfab",
   "metadata": {},
   "outputs": [],
   "source": [
    "data['source_text'] = data['source_text'].apply(preprocess_text)\n",
    "data['smishing_text'] = data['smishing_text'].apply(preprocess_text)"
   ]
  },
  {
   "cell_type": "code",
   "execution_count": 46,
   "id": "ba0d73ae-6e9c-4f87-975c-089b8c5bc7f5",
   "metadata": {},
   "outputs": [
    {
     "data": {
      "text/html": [
       "<div>\n",
       "<style scoped>\n",
       "    .dataframe tbody tr th:only-of-type {\n",
       "        vertical-align: middle;\n",
       "    }\n",
       "\n",
       "    .dataframe tbody tr th {\n",
       "        vertical-align: top;\n",
       "    }\n",
       "\n",
       "    .dataframe thead th {\n",
       "        text-align: right;\n",
       "    }\n",
       "</style>\n",
       "<table border=\"1\" class=\"dataframe\">\n",
       "  <thead>\n",
       "    <tr style=\"text-align: right;\">\n",
       "      <th></th>\n",
       "      <th>index</th>\n",
       "      <th>source_text</th>\n",
       "      <th>smishing_text</th>\n",
       "      <th>label</th>\n",
       "    </tr>\n",
       "  </thead>\n",
       "  <tbody>\n",
       "    <tr>\n",
       "      <th>0</th>\n",
       "      <td>0</td>\n",
       "      <td>access citibank statement log online access</td>\n",
       "      <td>citibank urgent suspicious activity detected s...</td>\n",
       "      <td>1</td>\n",
       "    </tr>\n",
       "    <tr>\n",
       "      <th>1</th>\n",
       "      <td>1</td>\n",
       "      <td>ups package en route use offical app track</td>\n",
       "      <td>ups delivery issue holding package click link ...</td>\n",
       "      <td>1</td>\n",
       "    </tr>\n",
       "    <tr>\n",
       "      <th>2</th>\n",
       "      <td>2</td>\n",
       "      <td>receiving update recent purchase</td>\n",
       "      <td>thank purchase verify information confirm</td>\n",
       "      <td>1</td>\n",
       "    </tr>\n",
       "    <tr>\n",
       "      <th>3</th>\n",
       "      <td>3</td>\n",
       "      <td>account capitol one balance available please l...</td>\n",
       "      <td>attention capitol one alert immediate action r...</td>\n",
       "      <td>1</td>\n",
       "    </tr>\n",
       "    <tr>\n",
       "      <th>4</th>\n",
       "      <td>4</td>\n",
       "      <td>update safari app latest version app store</td>\n",
       "      <td>safari app action required click install</td>\n",
       "      <td>1</td>\n",
       "    </tr>\n",
       "    <tr>\n",
       "      <th>...</th>\n",
       "      <td>...</td>\n",
       "      <td>...</td>\n",
       "      <td>...</td>\n",
       "      <td>...</td>\n",
       "    </tr>\n",
       "    <tr>\n",
       "      <th>166</th>\n",
       "      <td>166</td>\n",
       "      <td>cash deposit processed reflected account shortly</td>\n",
       "      <td>cash deposit avaialable cover purchases soon</td>\n",
       "      <td>0</td>\n",
       "    </tr>\n",
       "    <tr>\n",
       "      <th>167</th>\n",
       "      <td>167</td>\n",
       "      <td>unread notifitions csulb student center</td>\n",
       "      <td>please login csulb student center view unread ...</td>\n",
       "      <td>0</td>\n",
       "    </tr>\n",
       "    <tr>\n",
       "      <th>168</th>\n",
       "      <td>168</td>\n",
       "      <td>subscription automatically renewed</td>\n",
       "      <td>automatically renewed subscription check app i...</td>\n",
       "      <td>0</td>\n",
       "    </tr>\n",
       "    <tr>\n",
       "      <th>169</th>\n",
       "      <td>169</td>\n",
       "      <td>payment recieved thank time</td>\n",
       "      <td>payment recieved thank choosing us</td>\n",
       "      <td>0</td>\n",
       "    </tr>\n",
       "    <tr>\n",
       "      <th>170</th>\n",
       "      <td>170</td>\n",
       "      <td>hotel room ready please check earliest conveni...</td>\n",
       "      <td>check ready please stop soon</td>\n",
       "      <td>0</td>\n",
       "    </tr>\n",
       "  </tbody>\n",
       "</table>\n",
       "<p>171 rows × 4 columns</p>\n",
       "</div>"
      ],
      "text/plain": [
       "     index                                        source_text  \\\n",
       "0        0        access citibank statement log online access   \n",
       "1        1         ups package en route use offical app track   \n",
       "2        2                   receiving update recent purchase   \n",
       "3        3  account capitol one balance available please l...   \n",
       "4        4         update safari app latest version app store   \n",
       "..     ...                                                ...   \n",
       "166    166   cash deposit processed reflected account shortly   \n",
       "167    167            unread notifitions csulb student center   \n",
       "168    168                 subscription automatically renewed   \n",
       "169    169                        payment recieved thank time   \n",
       "170    170  hotel room ready please check earliest conveni...   \n",
       "\n",
       "                                         smishing_text  label  \n",
       "0    citibank urgent suspicious activity detected s...      1  \n",
       "1    ups delivery issue holding package click link ...      1  \n",
       "2            thank purchase verify information confirm      1  \n",
       "3    attention capitol one alert immediate action r...      1  \n",
       "4             safari app action required click install      1  \n",
       "..                                                 ...    ...  \n",
       "166       cash deposit avaialable cover purchases soon      0  \n",
       "167  please login csulb student center view unread ...      0  \n",
       "168  automatically renewed subscription check app i...      0  \n",
       "169                 payment recieved thank choosing us      0  \n",
       "170                       check ready please stop soon      0  \n",
       "\n",
       "[171 rows x 4 columns]"
      ]
     },
     "execution_count": 46,
     "metadata": {},
     "output_type": "execute_result"
    }
   ],
   "source": [
    "data"
   ]
  },
  {
   "cell_type": "markdown",
   "id": "f6929c90-12f8-4794-9ec9-952c15230574",
   "metadata": {},
   "source": [
    "# Vectorization"
   ]
  },
  {
   "cell_type": "code",
   "execution_count": 47,
   "id": "678fa9f6-a940-4fdd-987d-16d887398897",
   "metadata": {},
   "outputs": [],
   "source": [
    "vectorization_data = TfidfVectorizer()\n",
    "X = vectorization_data.fit_transform(data['source_text'] + \" \" + data['smishing_text'])"
   ]
  },
  {
   "cell_type": "code",
   "execution_count": 48,
   "id": "29fea351",
   "metadata": {},
   "outputs": [],
   "source": [
    "y = data['label']"
   ]
  },
  {
   "cell_type": "markdown",
   "id": "17fc1f8a-25fd-425e-aef6-7b16368f897e",
   "metadata": {},
   "source": [
    "# Train Test Split"
   ]
  },
  {
   "cell_type": "code",
   "execution_count": 49,
   "id": "fb3829b5-51d6-4ee6-8555-3bbdb900704c",
   "metadata": {},
   "outputs": [],
   "source": [
    "X_train, x_test, y_train, y_test = train_test_split(X, y, test_size = 0.2, random_state = 42)"
   ]
  },
  {
   "cell_type": "markdown",
   "id": "1e3f3a4c-7a5b-4437-87a4-ed4191a26023",
   "metadata": {},
   "source": [
    "# Applying Logistic Regression"
   ]
  },
  {
   "cell_type": "code",
   "execution_count": 50,
   "id": "61e89343-d8e1-4eb6-aea1-c6190d7f3606",
   "metadata": {
    "scrolled": true
   },
   "outputs": [
    {
     "name": "stdout",
     "output_type": "stream",
     "text": [
      "Accuracy 0.6285714285714286\n",
      "Classification               precision    recall  f1-score   support\n",
      "\n",
      "           0       1.00      0.13      0.24        15\n",
      "           1       0.61      1.00      0.75        20\n",
      "\n",
      "    accuracy                           0.63        35\n",
      "   macro avg       0.80      0.57      0.50        35\n",
      "weighted avg       0.77      0.63      0.53        35\n",
      "\n",
      "confusion [[ 2 13]\n",
      " [ 0 20]]\n"
     ]
    }
   ],
   "source": [
    "model = LogisticRegression()\n",
    "\n",
    "model.fit(X_train, y_train)\n",
    "y_pred = model.predict(x_test)\n",
    "\n",
    "print(\"Accuracy\", accuracy_score(y_test, y_pred))\n",
    "print(\"Classification\", classification_report(y_test, y_pred))\n",
    "print(\"confusion\", confusion_matrix(y_test, y_pred))"
   ]
  },
  {
   "cell_type": "markdown",
   "id": "977f9e9c-eeac-4ddf-a659-42db4bebbc83",
   "metadata": {},
   "source": [
    "# Random Forest Model"
   ]
  },
  {
   "cell_type": "code",
   "execution_count": 51,
   "id": "d6ae257b-af03-44b8-9c5d-2545f44b190e",
   "metadata": {},
   "outputs": [
    {
     "name": "stdout",
     "output_type": "stream",
     "text": [
      "Accuracy: 0.7714285714285715\n",
      "Classification Report:               precision    recall  f1-score   support\n",
      "\n",
      "           0       0.82      0.60      0.69        15\n",
      "           1       0.75      0.90      0.82        20\n",
      "\n",
      "    accuracy                           0.77        35\n",
      "   macro avg       0.78      0.75      0.76        35\n",
      "weighted avg       0.78      0.77      0.76        35\n",
      "\n",
      "[[ 9  6]\n",
      " [ 2 18]]\n"
     ]
    }
   ],
   "source": [
    "from sklearn.ensemble import RandomForestClassifier\n",
    "\n",
    "model = RandomForestClassifier(n_estimators = 100, random_state = 42)\n",
    "\n",
    "model.fit(X_train, y_train)\n",
    "\n",
    "y_pred =  model.predict(x_test)\n",
    "\n",
    "accuracy = accuracy_score(y_test, y_pred)\n",
    "\n",
    "classification_rep = classification_report(y_test, y_pred)\n",
    "\n",
    "cm = confusion_matrix(y_test, y_pred)\n",
    "\n",
    "print(\"Accuracy:\", accuracy)\n",
    "print(\"Classification Report:\", classification_rep)\n",
    "print(cm)"
   ]
  },
  {
   "cell_type": "markdown",
   "id": "36f639c5-565b-488e-8ff6-05def3e8332c",
   "metadata": {},
   "source": [
    "# Naiv Bays Model"
   ]
  },
  {
   "cell_type": "code",
   "execution_count": 52,
   "id": "4fd6e055-da1e-4450-840f-db4d47370dde",
   "metadata": {},
   "outputs": [
    {
     "name": "stdout",
     "output_type": "stream",
     "text": [
      "Accuracy: 0.6857142857142857\n",
      "Classification Report:\n",
      "              precision    recall  f1-score   support\n",
      "\n",
      "           0       0.83      0.33      0.48        15\n",
      "           1       0.66      0.95      0.78        20\n",
      "\n",
      "    accuracy                           0.69        35\n",
      "   macro avg       0.74      0.64      0.63        35\n",
      "weighted avg       0.73      0.69      0.65        35\n",
      "\n",
      "Confusion Matrix:\n",
      "[[ 5 10]\n",
      " [ 1 19]]\n"
     ]
    }
   ],
   "source": [
    "from sklearn.naive_bayes import MultinomialNB\n",
    "\n",
    "model = MultinomialNB()\n",
    "\n",
    "model.fit(X_train, y_train)\n",
    "\n",
    "y_pred = model.predict(x_test)\n",
    "\n",
    "accuracy = accuracy_score(y_test, y_pred)\n",
    "\n",
    "classification_rep = classification_report(y_test, y_pred)\n",
    "\n",
    "cm = confusion_matrix(y_test, y_pred)\n",
    "\n",
    "print(\"Accuracy:\", accuracy)\n",
    "print(\"Classification Report:\")\n",
    "print(classification_rep)\n",
    "print(\"Confusion Matrix:\")\n",
    "print(cm)"
   ]
  },
  {
   "cell_type": "markdown",
   "id": "b1401680-a110-4017-951b-a1721cde1354",
   "metadata": {},
   "source": [
    "# SVM"
   ]
  },
  {
   "cell_type": "code",
   "execution_count": 53,
   "id": "5fb712ee-9dd1-47aa-b6a9-9e6173e9118e",
   "metadata": {
    "scrolled": true
   },
   "outputs": [
    {
     "name": "stdout",
     "output_type": "stream",
     "text": [
      "Accuracy: 0.8571428571428571\n",
      "Classification Report:\n",
      "              precision    recall  f1-score   support\n",
      "\n",
      "           0       0.92      0.73      0.81        15\n",
      "           1       0.83      0.95      0.88        20\n",
      "\n",
      "    accuracy                           0.86        35\n",
      "   macro avg       0.87      0.84      0.85        35\n",
      "weighted avg       0.86      0.86      0.85        35\n",
      "\n",
      "Confusion Matrix\n",
      "[[11  4]\n",
      " [ 1 19]]\n"
     ]
    }
   ],
   "source": [
    "from sklearn.svm import SVC\n",
    "\n",
    "model = SVC(kernel = 'linear', random_state = 42)\n",
    "\n",
    "model.fit(X_train, y_train)\n",
    "\n",
    "y_pred = model.predict(x_test)\n",
    "\n",
    "accuracy = accuracy_score(y_test, y_pred)\n",
    "\n",
    "classification_rep = classification_report(y_test, y_pred)\n",
    "\n",
    "cm = confusion_matrix(y_test, y_pred)\n",
    "\n",
    "print(\"Accuracy:\", accuracy)\n",
    "print(\"Classification Report:\")\n",
    "print(classification_rep)\n",
    "print(\"Confusion Matrix\")\n",
    "print(cm)"
   ]
  },
  {
   "cell_type": "code",
   "execution_count": 54,
   "id": "8c4695b7-1641-4548-b245-b4aa23df8fe6",
   "metadata": {},
   "outputs": [
    {
     "data": {
      "image/png": "[encoded data removed]",
      "text/plain": [
       "<Figure size 600x500 with 1 Axes>"
      ]
     },
     "metadata": {},
     "output_type": "display_data"
    },
    {
     "data": {
      "image/png": "[encoded data removed]",
      "text/plain": [
       "<Figure size 800x600 with 1 Axes>"
      ]
     },
     "metadata": {},
     "output_type": "display_data"
    }
   ],
   "source": [
    "import matplotlib.pyplot as plt\n",
    "import seaborn as sns\n",
    "from sklearn.metrics import confusion_matrix, roc_curve, auc\n",
    "\n",
    "# Assuming you already have y_test and y_pred from your SVM model\n",
    "\n",
    "# Confusion Matrix\n",
    "cm = confusion_matrix(y_test, y_pred)\n",
    "\n",
    "# Plotting the confusion matrix as a heatmap\n",
    "plt.figure(figsize=(6, 5))\n",
    "sns.heatmap(cm, annot=True, fmt='g', cmap='Blues', cbar=False, xticklabels=['Class 0', 'Class 1'], yticklabels=['Class 0', 'Class 1'])\n",
    "plt.xlabel('Predicted Labels')\n",
    "plt.ylabel('True Labels')\n",
    "plt.title('Confusion Matrix')\n",
    "plt.show()\n",
    "\n",
    "# ROC Curve\n",
    "fpr, tpr, _ = roc_curve(y_test, model.decision_function(x_test))  # using decision function for SVM\n",
    "roc_auc = auc(fpr, tpr)\n",
    "\n",
    "# Plot ROC Curve\n",
    "plt.figure(figsize=(8, 6))\n",
    "plt.plot(fpr, tpr, color='darkorange', lw=2, label='SVM (area = %0.2f)' % roc_auc)\n",
    "plt.plot([0, 1], [0, 1], color='navy', lw=2, linestyle='--')\n",
    "plt.xlabel('False Positive Rate')\n",
    "plt.ylabel('True Positive Rate')\n",
    "plt.title('Receiver Operating Characteristic (ROC) Curve')\n",
    "plt.legend(loc='lower right')\n",
    "plt.show()\n"
   ]
  },
  {
   "cell_type": "markdown",
   "id": "2134fd77-8d60-4060-8f96-2b668d698ed2",
   "metadata": {},
   "source": [
    "# Save SVM and Vectorized"
   ]
  },
  {
   "cell_type": "code",
   "execution_count": 55,
   "id": "efcba2e2-9318-437b-99f8-42efce96a960",
   "metadata": {},
   "outputs": [],
   "source": [
    "import pickle\n",
    "\n",
    "pickle.dump(model, open(\"model.pkl\", 'wb'))\n",
    "pickle.dump(vectorization_data, open('vectorization_data.pkl', 'wb'))"
   ]
  },
  {
   "cell_type": "markdown",
   "id": "9509a787-6389-4289-a41b-2a1d354ca1d8",
   "metadata": {},
   "source": [
    "# Load Model and Vectorizer"
   ]
  },
  {
   "cell_type": "code",
   "execution_count": 56,
   "id": "15d5ffe7-687d-4457-b77a-378ed03ac743",
   "metadata": {},
   "outputs": [],
   "source": [
    "model = pickle.load(open('model.pkl', 'rb'))\n",
    "vectorization_data = pickle.load(open('vectorization_data.pkl', 'rb'))"
   ]
  },
  {
   "cell_type": "markdown",
   "id": "924f9ec5-7f0b-4ddf-9ecf-182d25b93bee",
   "metadata": {},
   "source": [
    "# Detection System"
   ]
  },
  {
   "cell_type": "code",
   "execution_count": 57,
   "id": "72fa2d3d-adc3-4fa5-bbdf-8c92bcfc25b8",
   "metadata": {},
   "outputs": [],
   "source": [
    "def detect(input_text):\n",
    "    vectorized_text = vectorization_data.transform([input_text])\n",
    "    result = model.predict(vectorized_text)\n",
    "    return \"Smishing Detexted\" if result[0] == 1 else \"No Smishing Detected\""
   ]
  },
  {
   "cell_type": "code",
   "execution_count": 58,
   "id": "44e86820-b08d-424f-ab45-46d0961ae469",
   "metadata": {},
   "outputs": [
    {
     "data": {
      "text/plain": [
       "'Smishing Detexted'"
      ]
     },
     "execution_count": 58,
     "metadata": {},
     "output_type": "execute_result"
    }
   ],
   "source": [
    "input_text = \"Delivery issue: Your package is on hold.\"\n",
    "detect(input_text)"
   ]
  },
  {
   "cell_type": "code",
   "execution_count": 22,
   "id": "81767b28-0338-4fdd-9958-d441b9c5df5e",
   "metadata": {},
   "outputs": [
    {
     "data": {
      "text/plain": [
       "'1.5.2'"
      ]
     },
     "execution_count": 22,
     "metadata": {},
     "output_type": "execute_result"
    }
   ],
   "source": [
    "import sklearn\n",
    "sklearn.__version__"
   ]
  },
  {
   "cell_type": "code",
   "execution_count": null,
   "id": "5c5bbadb-e202-404c-af3a-85f3ef020ced",
   "metadata": {},
   "outputs": [],
   "source": []
  }
 ],
 "metadata": {
  "kernelspec": {
   "display_name": "Python 3 (ipykernel)",
   "language": "python",
   "name": "python3"
  },
  "language_info": {
   "codemirror_mode": {
    "name": "ipython",
    "version": 3
   },
   "file_extension": ".py",
   "mimetype": "text/x-python",
   "name": "python",
   "nbconvert_exporter": "python",
   "pygments_lexer": "ipython3",
   "version": "3.12.7"
  }
 },
 "nbformat": 4,
 "nbformat_minor": 5
}
